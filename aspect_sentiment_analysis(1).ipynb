{
 "cells": [
  {
   "cell_type": "markdown",
   "metadata": {
    "id": "3-HW_yhSxWzC"
   },
   "source": [
    "# 🗣️ Sentiment Analysis: Aspect-Based Opinion Mining"
   ]
  },
  {
   "cell_type": "markdown",
   "metadata": {
    "id": "5a1LzrpExWzJ"
   },
   "source": [
    "Applying topic modelling and sentiment analysis techniques in order to extract text aspects and the sentiment expressed towards such aspects."
   ]
  },
  {
   "cell_type": "markdown",
   "metadata": {
    "id": "SLrT8gDP0dC2"
   },
   "source": [
    "Installing necessary libraries"
   ]
  },
  {
   "cell_type": "code",
   "execution_count": null,
   "metadata": {
    "colab": {
     "base_uri": "https://localhost:8080/"
    },
    "id": "lmAFCAoDxikJ",
    "outputId": "efc2b49f-3308-46e8-fd94-fcf3e6e7e5f5"
   },
   "outputs": [
    {
     "name": "stdout",
     "output_type": "stream",
     "text": [
      "Collecting vaderSentiment\n",
      "  Downloading vaderSentiment-3.3.2-py2.py3-none-any.whl (125 kB)\n",
      "\u001b[?25l\r",
      "\u001b[K     |██▋                             | 10 kB 25.3 MB/s eta 0:00:01\r",
      "\u001b[K     |█████▏                          | 20 kB 28.6 MB/s eta 0:00:01\r",
      "\u001b[K     |███████▉                        | 30 kB 20.2 MB/s eta 0:00:01\r",
      "\u001b[K     |██████████▍                     | 40 kB 16.9 MB/s eta 0:00:01\r",
      "\u001b[K     |█████████████                   | 51 kB 7.5 MB/s eta 0:00:01\r",
      "\u001b[K     |███████████████▋                | 61 kB 8.8 MB/s eta 0:00:01\r",
      "\u001b[K     |██████████████████▏             | 71 kB 8.0 MB/s eta 0:00:01\r",
      "\u001b[K     |████████████████████▉           | 81 kB 9.0 MB/s eta 0:00:01\r",
      "\u001b[K     |███████████████████████▍        | 92 kB 9.7 MB/s eta 0:00:01\r",
      "\u001b[K     |██████████████████████████      | 102 kB 7.4 MB/s eta 0:00:01\r",
      "\u001b[K     |████████████████████████████▋   | 112 kB 7.4 MB/s eta 0:00:01\r",
      "\u001b[K     |███████████████████████████████▏| 122 kB 7.4 MB/s eta 0:00:01\r",
      "\u001b[K     |████████████████████████████████| 125 kB 7.4 MB/s \n",
      "\u001b[?25hRequirement already satisfied: requests in /usr/local/lib/python3.7/dist-packages (from vaderSentiment) (2.23.0)\n",
      "Requirement already satisfied: idna<3,>=2.5 in /usr/local/lib/python3.7/dist-packages (from requests->vaderSentiment) (2.10)\n",
      "Requirement already satisfied: urllib3!=1.25.0,!=1.25.1,<1.26,>=1.21.1 in /usr/local/lib/python3.7/dist-packages (from requests->vaderSentiment) (1.24.3)\n",
      "Requirement already satisfied: certifi>=2017.4.17 in /usr/local/lib/python3.7/dist-packages (from requests->vaderSentiment) (2021.10.8)\n",
      "Requirement already satisfied: chardet<4,>=3.0.2 in /usr/local/lib/python3.7/dist-packages (from requests->vaderSentiment) (3.0.4)\n",
      "Installing collected packages: vaderSentiment\n",
      "Successfully installed vaderSentiment-3.3.2\n"
     ]
    }
   ],
   "source": [
    "!pip install vaderSentiment\n"
   ]
  },
  {
   "cell_type": "markdown",
   "metadata": {
    "id": "efxvn10A0hwK"
   },
   "source": [
    "Importing necesarry libraries"
   ]
  },
  {
   "cell_type": "code",
   "execution_count": null,
   "metadata": {
    "colab": {
     "base_uri": "https://localhost:8080/"
    },
    "id": "Sj458rYHxWzL",
    "outputId": "e7afa45f-77b1-4406-add0-7b012f247788"
   },
   "outputs": [
    {
     "name": "stdout",
     "output_type": "stream",
     "text": [
      "[nltk_data] Downloading package punkt to /root/nltk_data...\n",
      "[nltk_data]   Package punkt is already up-to-date!\n"
     ]
    }
   ],
   "source": [
    "import json\n",
    "import pandas as pd\n",
    "import numpy as np\n",
    "import re\n",
    "import sys\n",
    "import nltk\n",
    "\n",
    "# Sklearn\n",
    "from sklearn.decomposition import LatentDirichletAllocation, TruncatedSVD\n",
    "from sklearn.feature_extraction.text import CountVectorizer, TfidfVectorizer\n",
    "from sklearn.model_selection import GridSearchCV\n",
    "from pprint import pprint\n",
    "\n",
    "from keras.models import load_model\n",
    "\n",
    "nltk.download('punkt')\n",
    "from nltk.corpus import stopwords, sentiwordnet as swn\n",
    "from nltk.stem import WordNetLemmatizer\n",
    "from nltk import ngrams\n",
    "from sklearn.feature_extraction.text import CountVectorizer\n",
    "from sklearn.decomposition import LatentDirichletAllocation\n",
    "import collections\n",
    "from vaderSentiment.vaderSentiment import SentimentIntensityAnalyzer\n",
    "#from stop_words_list import stop_words_list\n",
    "from wn_affect import wn_affect \n",
    "import matplotlib.pyplot as plt\n",
    "from wordcloud import WordCloud\n",
    "\n"
   ]
  },
  {
   "cell_type": "markdown",
   "metadata": {
    "id": "a3QO-qG60J4B"
   },
   "source": [
    "Data was extracted from [Cell Phones Reviews Data](http://jmcauley.ucsd.edu/data/amazon/links.html)"
   ]
  },
  {
   "cell_type": "code",
   "execution_count": null,
   "metadata": {
    "colab": {
     "base_uri": "https://localhost:8080/"
    },
    "id": "BokJUfsboM2E",
    "outputId": "e20d3dba-f477-408a-f9ec-fb929d6a6620"
   },
   "outputs": [
    {
     "name": "stdout",
     "output_type": "stream",
     "text": [
      "Mounted at /content/drive\n"
     ]
    }
   ],
   "source": [
    "from google.colab import drive\n",
    "drive.mount('/content/drive')"
   ]
  },
  {
   "cell_type": "code",
   "execution_count": null,
   "metadata": {
    "colab": {
     "base_uri": "https://localhost:8080/",
     "height": 206
    },
    "id": "deBk2CpJolYr",
    "outputId": "dd933537-121f-41bd-c53c-36516c1987ea"
   },
   "outputs": [
    {
     "data": {
      "text/html": [
       "<div>\n",
       "<style scoped>\n",
       "    .dataframe tbody tr th:only-of-type {\n",
       "        vertical-align: middle;\n",
       "    }\n",
       "\n",
       "    .dataframe tbody tr th {\n",
       "        vertical-align: top;\n",
       "    }\n",
       "\n",
       "    .dataframe thead th {\n",
       "        text-align: right;\n",
       "    }\n",
       "</style>\n",
       "<table border=\"1\" class=\"dataframe\">\n",
       "  <thead>\n",
       "    <tr style=\"text-align: right;\">\n",
       "      <th></th>\n",
       "      <th>reviewText</th>\n",
       "    </tr>\n",
       "  </thead>\n",
       "  <tbody>\n",
       "    <tr>\n",
       "      <th>0</th>\n",
       "      <td>They look good and stick good! I just don't li...</td>\n",
       "    </tr>\n",
       "    <tr>\n",
       "      <th>1</th>\n",
       "      <td>These stickers work like the review says they ...</td>\n",
       "    </tr>\n",
       "    <tr>\n",
       "      <th>2</th>\n",
       "      <td>These are awesome and make my phone look so st...</td>\n",
       "    </tr>\n",
       "    <tr>\n",
       "      <th>3</th>\n",
       "      <td>Item arrived in great time and was in perfect ...</td>\n",
       "    </tr>\n",
       "    <tr>\n",
       "      <th>4</th>\n",
       "      <td>awesome! stays on, and looks great. can be use...</td>\n",
       "    </tr>\n",
       "  </tbody>\n",
       "</table>\n",
       "</div>"
      ],
      "text/plain": [
       "                                          reviewText\n",
       "0  They look good and stick good! I just don't li...\n",
       "1  These stickers work like the review says they ...\n",
       "2  These are awesome and make my phone look so st...\n",
       "3  Item arrived in great time and was in perfect ...\n",
       "4  awesome! stays on, and looks great. can be use..."
      ]
     },
     "metadata": {},
     "output_type": "display_data"
    }
   ],
   "source": [
    "import pandas as pd\n",
    "import gzip\n",
    "\n",
    "def parse(path):\n",
    "  g = gzip.open(path, 'rb')\n",
    "  for l in g:\n",
    "    yield eval(l)\n",
    "\n",
    "def getDF(path):\n",
    "  i = 0\n",
    "  df = {}\n",
    "  for d in parse(path):\n",
    "    df[i] = d\n",
    "    i += 1\n",
    "  return pd.DataFrame.from_dict(df, orient='index')\n",
    "\n",
    "df = getDF('/content/drive/MyDrive/reviews_Cell_Phones_and_Accessories_5.json.gz')\n",
    "df = df[['reviewText']]\n",
    "display(df.head())"
   ]
  },
  {
   "cell_type": "markdown",
   "metadata": {
    "id": "7br2YA9z0mva"
   },
   "source": [
    "## Preprocesssing Data"
   ]
  },
  {
   "cell_type": "code",
   "execution_count": null,
   "metadata": {
    "colab": {
     "base_uri": "https://localhost:8080/",
     "height": 363
    },
    "id": "ex6lU1JzxWzS",
    "outputId": "68d0de84-130f-44f0-a345-70c890450cfb"
   },
   "outputs": [
    {
     "data": {
      "text/html": [
       "<div>\n",
       "<style scoped>\n",
       "    .dataframe tbody tr th:only-of-type {\n",
       "        vertical-align: middle;\n",
       "    }\n",
       "\n",
       "    .dataframe tbody tr th {\n",
       "        vertical-align: top;\n",
       "    }\n",
       "\n",
       "    .dataframe thead th {\n",
       "        text-align: right;\n",
       "    }\n",
       "</style>\n",
       "<table border=\"1\" class=\"dataframe\">\n",
       "  <thead>\n",
       "    <tr style=\"text-align: right;\">\n",
       "      <th></th>\n",
       "      <th>reviewText</th>\n",
       "      <th>remove_lower_punct</th>\n",
       "    </tr>\n",
       "  </thead>\n",
       "  <tbody>\n",
       "    <tr>\n",
       "      <th>0</th>\n",
       "      <td>They look good and stick good! I just don't li...</td>\n",
       "      <td>they look good and stick good i just dont like...</td>\n",
       "    </tr>\n",
       "    <tr>\n",
       "      <th>1</th>\n",
       "      <td>These stickers work like the review says they ...</td>\n",
       "      <td>these stickers work like the review says they ...</td>\n",
       "    </tr>\n",
       "    <tr>\n",
       "      <th>2</th>\n",
       "      <td>These are awesome and make my phone look so st...</td>\n",
       "      <td>these are awesome and make my phone look so st...</td>\n",
       "    </tr>\n",
       "    <tr>\n",
       "      <th>3</th>\n",
       "      <td>Item arrived in great time and was in perfect ...</td>\n",
       "      <td>item arrived in great time and was in perfect ...</td>\n",
       "    </tr>\n",
       "    <tr>\n",
       "      <th>4</th>\n",
       "      <td>awesome! stays on, and looks great. can be use...</td>\n",
       "      <td>awesome stays on and looks great can be used o...</td>\n",
       "    </tr>\n",
       "    <tr>\n",
       "      <th>5</th>\n",
       "      <td>These make using the home button easy. My daug...</td>\n",
       "      <td>these make using the home button easy my daugh...</td>\n",
       "    </tr>\n",
       "    <tr>\n",
       "      <th>6</th>\n",
       "      <td>Came just as described.. It doesn't come unstu...</td>\n",
       "      <td>came just as described it doesnt come unstuck ...</td>\n",
       "    </tr>\n",
       "    <tr>\n",
       "      <th>7</th>\n",
       "      <td>it worked for the first week then it only char...</td>\n",
       "      <td>it worked for the first week then it only char...</td>\n",
       "    </tr>\n",
       "    <tr>\n",
       "      <th>8</th>\n",
       "      <td>Good case, solid build. Protects phone all aro...</td>\n",
       "      <td>good case solid build protects phone all aroun...</td>\n",
       "    </tr>\n",
       "    <tr>\n",
       "      <th>9</th>\n",
       "      <td>This is a fantastic case. Very stylish and pro...</td>\n",
       "      <td>this is a fantastic case very stylish and prot...</td>\n",
       "    </tr>\n",
       "  </tbody>\n",
       "</table>\n",
       "</div>"
      ],
      "text/plain": [
       "                                          reviewText                                 remove_lower_punct\n",
       "0  They look good and stick good! I just don't li...  they look good and stick good i just dont like...\n",
       "1  These stickers work like the review says they ...  these stickers work like the review says they ...\n",
       "2  These are awesome and make my phone look so st...  these are awesome and make my phone look so st...\n",
       "3  Item arrived in great time and was in perfect ...  item arrived in great time and was in perfect ...\n",
       "4  awesome! stays on, and looks great. can be use...  awesome stays on and looks great can be used o...\n",
       "5  These make using the home button easy. My daug...  these make using the home button easy my daugh...\n",
       "6  Came just as described.. It doesn't come unstu...  came just as described it doesnt come unstuck ...\n",
       "7  it worked for the first week then it only char...  it worked for the first week then it only char...\n",
       "8  Good case, solid build. Protects phone all aro...  good case solid build protects phone all aroun...\n",
       "9  This is a fantastic case. Very stylish and pro...  this is a fantastic case very stylish and prot..."
      ]
     },
     "metadata": {},
     "output_type": "display_data"
    }
   ],
   "source": [
    "# case text as lowercase, remove punctuation, remove extra whitespace in string and on both sides of string\n",
    "\n",
    "df['remove_lower_punct'] = df['reviewText'].str.lower().str.replace(\"'\", '').str.replace('[^\\w\\s]', ' ').str.replace(\" \\d+\", \" \").str.replace(' +', ' ').str.strip()\n",
    "\n",
    "display(df.head(10))"
   ]
  },
  {
   "cell_type": "code",
   "execution_count": null,
   "metadata": {
    "colab": {
     "background_save": true
    },
    "id": "WyE0JzfVxWzU",
    "outputId": "471f683f-c149-4f44-9f1f-f1651e7fb9c2"
   },
   "outputs": [
    {
     "data": {
      "text/html": [
       "<div>\n",
       "<style scoped>\n",
       "    .dataframe tbody tr th:only-of-type {\n",
       "        vertical-align: middle;\n",
       "    }\n",
       "\n",
       "    .dataframe tbody tr th {\n",
       "        vertical-align: top;\n",
       "    }\n",
       "\n",
       "    .dataframe thead th {\n",
       "        text-align: right;\n",
       "    }\n",
       "</style>\n",
       "<table border=\"1\" class=\"dataframe\">\n",
       "  <thead>\n",
       "    <tr style=\"text-align: right;\">\n",
       "      <th></th>\n",
       "      <th>reviewText</th>\n",
       "      <th>remove_lower_punct</th>\n",
       "      <th>sentiment</th>\n",
       "      <th>sentiment score</th>\n",
       "    </tr>\n",
       "  </thead>\n",
       "  <tbody>\n",
       "    <tr>\n",
       "      <th>0</th>\n",
       "      <td>They look good and stick good! I just don't li...</td>\n",
       "      <td>they look good and stick good i just dont like...</td>\n",
       "      <td>Positive</td>\n",
       "      <td>0.4922</td>\n",
       "    </tr>\n",
       "    <tr>\n",
       "      <th>1</th>\n",
       "      <td>These stickers work like the review says they ...</td>\n",
       "      <td>these stickers work like the review says they ...</td>\n",
       "      <td>Positive</td>\n",
       "      <td>0.9136</td>\n",
       "    </tr>\n",
       "    <tr>\n",
       "      <th>2</th>\n",
       "      <td>These are awesome and make my phone look so st...</td>\n",
       "      <td>these are awesome and make my phone look so st...</td>\n",
       "      <td>Positive</td>\n",
       "      <td>0.8481</td>\n",
       "    </tr>\n",
       "    <tr>\n",
       "      <th>3</th>\n",
       "      <td>Item arrived in great time and was in perfect ...</td>\n",
       "      <td>item arrived in great time and was in perfect ...</td>\n",
       "      <td>Positive</td>\n",
       "      <td>0.9584</td>\n",
       "    </tr>\n",
       "    <tr>\n",
       "      <th>4</th>\n",
       "      <td>awesome! stays on, and looks great. can be use...</td>\n",
       "      <td>awesome stays on and looks great can be used o...</td>\n",
       "      <td>Positive</td>\n",
       "      <td>0.8957</td>\n",
       "    </tr>\n",
       "    <tr>\n",
       "      <th>5</th>\n",
       "      <td>These make using the home button easy. My daug...</td>\n",
       "      <td>these make using the home button easy my daugh...</td>\n",
       "      <td>Positive</td>\n",
       "      <td>0.8126</td>\n",
       "    </tr>\n",
       "    <tr>\n",
       "      <th>6</th>\n",
       "      <td>Came just as described.. It doesn't come unstu...</td>\n",
       "      <td>came just as described it doesnt come unstuck ...</td>\n",
       "      <td>Positive</td>\n",
       "      <td>0.7964</td>\n",
       "    </tr>\n",
       "    <tr>\n",
       "      <th>7</th>\n",
       "      <td>it worked for the first week then it only char...</td>\n",
       "      <td>it worked for the first week then it only char...</td>\n",
       "      <td>Negative</td>\n",
       "      <td>-0.4215</td>\n",
       "    </tr>\n",
       "    <tr>\n",
       "      <th>8</th>\n",
       "      <td>Good case, solid build. Protects phone all aro...</td>\n",
       "      <td>good case solid build protects phone all aroun...</td>\n",
       "      <td>Positive</td>\n",
       "      <td>0.8555</td>\n",
       "    </tr>\n",
       "    <tr>\n",
       "      <th>9</th>\n",
       "      <td>This is a fantastic case. Very stylish and pro...</td>\n",
       "      <td>this is a fantastic case very stylish and prot...</td>\n",
       "      <td>Positive</td>\n",
       "      <td>0.9572</td>\n",
       "    </tr>\n",
       "  </tbody>\n",
       "</table>\n",
       "</div>"
      ],
      "text/plain": [
       "                                          reviewText  ... sentiment score\n",
       "0  They look good and stick good! I just don't li...  ...          0.4922\n",
       "1  These stickers work like the review says they ...  ...          0.9136\n",
       "2  These are awesome and make my phone look so st...  ...          0.8481\n",
       "3  Item arrived in great time and was in perfect ...  ...          0.9584\n",
       "4  awesome! stays on, and looks great. can be use...  ...          0.8957\n",
       "5  These make using the home button easy. My daug...  ...          0.8126\n",
       "6  Came just as described.. It doesn't come unstu...  ...          0.7964\n",
       "7  it worked for the first week then it only char...  ...         -0.4215\n",
       "8  Good case, solid build. Protects phone all aro...  ...          0.8555\n",
       "9  This is a fantastic case. Very stylish and pro...  ...          0.9572\n",
       "\n",
       "[10 rows x 4 columns]"
      ]
     },
     "metadata": {},
     "output_type": "display_data"
    }
   ],
   "source": [
    "# apply sentiment analysis\n",
    "analyser = SentimentIntensityAnalyzer()\n",
    "\n",
    "sentiment_score_list = []\n",
    "sentiment_label_list = []\n",
    "\n",
    "for i in df['remove_lower_punct'].values.tolist():\n",
    "    sentiment_score = analyser.polarity_scores(i)\n",
    "\n",
    "    if sentiment_score['compound'] >= 0.05:\n",
    "        sentiment_score_list.append(sentiment_score['compound'])\n",
    "        sentiment_label_list.append('Positive')\n",
    "    elif sentiment_score['compound'] > -0.05 and sentiment_score['compound'] < 0.05:\n",
    "        sentiment_score_list.append(sentiment_score['compound'])\n",
    "        sentiment_label_list.append('Neutral')\n",
    "    elif sentiment_score['compound'] <= -0.05:\n",
    "        sentiment_score_list.append(sentiment_score['compound'])\n",
    "        sentiment_label_list.append('Negative')\n",
    "    \n",
    "df['sentiment'] = sentiment_label_list\n",
    "df['sentiment score'] = sentiment_score_list\n",
    "\n",
    "display(df.head(10))"
   ]
  },
  {
   "cell_type": "code",
   "execution_count": null,
   "metadata": {
    "colab": {
     "background_save": true
    },
    "id": "4FvprNXTsx3Q",
    "outputId": "c3db71be-51b0-42db-e93c-4a91c0b0efa5"
   },
   "outputs": [
    {
     "data": {
      "text/html": [
       "<div>\n",
       "<style scoped>\n",
       "    .dataframe tbody tr th:only-of-type {\n",
       "        vertical-align: middle;\n",
       "    }\n",
       "\n",
       "    .dataframe tbody tr th {\n",
       "        vertical-align: top;\n",
       "    }\n",
       "\n",
       "    .dataframe thead th {\n",
       "        text-align: right;\n",
       "    }\n",
       "</style>\n",
       "<table border=\"1\" class=\"dataframe\">\n",
       "  <thead>\n",
       "    <tr style=\"text-align: right;\">\n",
       "      <th></th>\n",
       "      <th>reviewText</th>\n",
       "      <th>remove_lower_punct</th>\n",
       "      <th>sentiment</th>\n",
       "      <th>sentiment score</th>\n",
       "      <th>tokenise</th>\n",
       "    </tr>\n",
       "  </thead>\n",
       "  <tbody>\n",
       "    <tr>\n",
       "      <th>0</th>\n",
       "      <td>They look good and stick good! I just don't li...</td>\n",
       "      <td>they look good and stick good i just dont like...</td>\n",
       "      <td>Positive</td>\n",
       "      <td>0.4922</td>\n",
       "      <td>[they, look, good, and, stick, good, i, just, ...</td>\n",
       "    </tr>\n",
       "    <tr>\n",
       "      <th>1</th>\n",
       "      <td>These stickers work like the review says they ...</td>\n",
       "      <td>these stickers work like the review says they ...</td>\n",
       "      <td>Positive</td>\n",
       "      <td>0.9136</td>\n",
       "      <td>[these, stickers, work, like, the, review, say...</td>\n",
       "    </tr>\n",
       "    <tr>\n",
       "      <th>2</th>\n",
       "      <td>These are awesome and make my phone look so st...</td>\n",
       "      <td>these are awesome and make my phone look so st...</td>\n",
       "      <td>Positive</td>\n",
       "      <td>0.8481</td>\n",
       "      <td>[these, are, awesome, and, make, my, phone, lo...</td>\n",
       "    </tr>\n",
       "    <tr>\n",
       "      <th>3</th>\n",
       "      <td>Item arrived in great time and was in perfect ...</td>\n",
       "      <td>item arrived in great time and was in perfect ...</td>\n",
       "      <td>Positive</td>\n",
       "      <td>0.9584</td>\n",
       "      <td>[item, arrived, in, great, time, and, was, in,...</td>\n",
       "    </tr>\n",
       "    <tr>\n",
       "      <th>4</th>\n",
       "      <td>awesome! stays on, and looks great. can be use...</td>\n",
       "      <td>awesome stays on and looks great can be used o...</td>\n",
       "      <td>Positive</td>\n",
       "      <td>0.8957</td>\n",
       "      <td>[awesome, stays, on, and, looks, great, can, b...</td>\n",
       "    </tr>\n",
       "    <tr>\n",
       "      <th>5</th>\n",
       "      <td>These make using the home button easy. My daug...</td>\n",
       "      <td>these make using the home button easy my daugh...</td>\n",
       "      <td>Positive</td>\n",
       "      <td>0.8126</td>\n",
       "      <td>[these, make, using, the, home, button, easy, ...</td>\n",
       "    </tr>\n",
       "    <tr>\n",
       "      <th>6</th>\n",
       "      <td>Came just as described.. It doesn't come unstu...</td>\n",
       "      <td>came just as described it doesnt come unstuck ...</td>\n",
       "      <td>Positive</td>\n",
       "      <td>0.7964</td>\n",
       "      <td>[came, just, as, described, it, doesnt, come, ...</td>\n",
       "    </tr>\n",
       "    <tr>\n",
       "      <th>7</th>\n",
       "      <td>it worked for the first week then it only char...</td>\n",
       "      <td>it worked for the first week then it only char...</td>\n",
       "      <td>Negative</td>\n",
       "      <td>-0.4215</td>\n",
       "      <td>[it, worked, for, the, first, week, then, it, ...</td>\n",
       "    </tr>\n",
       "    <tr>\n",
       "      <th>8</th>\n",
       "      <td>Good case, solid build. Protects phone all aro...</td>\n",
       "      <td>good case solid build protects phone all aroun...</td>\n",
       "      <td>Positive</td>\n",
       "      <td>0.8555</td>\n",
       "      <td>[good, case, solid, build, protects, phone, al...</td>\n",
       "    </tr>\n",
       "    <tr>\n",
       "      <th>9</th>\n",
       "      <td>This is a fantastic case. Very stylish and pro...</td>\n",
       "      <td>this is a fantastic case very stylish and prot...</td>\n",
       "      <td>Positive</td>\n",
       "      <td>0.9572</td>\n",
       "      <td>[this, is, a, fantastic, case, very, stylish, ...</td>\n",
       "    </tr>\n",
       "  </tbody>\n",
       "</table>\n",
       "</div>"
      ],
      "text/plain": [
       "                                          reviewText  ...                                           tokenise\n",
       "0  They look good and stick good! I just don't li...  ...  [they, look, good, and, stick, good, i, just, ...\n",
       "1  These stickers work like the review says they ...  ...  [these, stickers, work, like, the, review, say...\n",
       "2  These are awesome and make my phone look so st...  ...  [these, are, awesome, and, make, my, phone, lo...\n",
       "3  Item arrived in great time and was in perfect ...  ...  [item, arrived, in, great, time, and, was, in,...\n",
       "4  awesome! stays on, and looks great. can be use...  ...  [awesome, stays, on, and, looks, great, can, b...\n",
       "5  These make using the home button easy. My daug...  ...  [these, make, using, the, home, button, easy, ...\n",
       "6  Came just as described.. It doesn't come unstu...  ...  [came, just, as, described, it, doesnt, come, ...\n",
       "7  it worked for the first week then it only char...  ...  [it, worked, for, the, first, week, then, it, ...\n",
       "8  Good case, solid build. Protects phone all aro...  ...  [good, case, solid, build, protects, phone, al...\n",
       "9  This is a fantastic case. Very stylish and pro...  ...  [this, is, a, fantastic, case, very, stylish, ...\n",
       "\n",
       "[10 rows x 5 columns]"
      ]
     },
     "metadata": {},
     "output_type": "display_data"
    }
   ],
   "source": [
    "# tokenise string\n",
    "\n",
    "df['tokenise'] = df.apply(lambda row: nltk.word_tokenize(row[1]), axis=1)\n",
    "\n",
    "display(df.head(10))"
   ]
  },
  {
   "cell_type": "code",
   "execution_count": null,
   "metadata": {
    "colab": {
     "background_save": true
    },
    "id": "PmnTDSv_vsDE",
    "outputId": "78e6f1cb-c883-4081-89b6-1b5d427e4142"
   },
   "outputs": [
    {
     "name": "stdout",
     "output_type": "stream",
     "text": [
      "[nltk_data] Downloading package punkt to /root/nltk_data...\n",
      "[nltk_data]   Package punkt is already up-to-date!\n",
      "[nltk_data] Downloading package stopwords to /root/nltk_data...\n",
      "[nltk_data]   Unzipping corpora/stopwords.zip.\n",
      "[nltk_data] Downloading package wordnet to /root/nltk_data...\n",
      "[nltk_data]   Unzipping corpora/wordnet.zip.\n"
     ]
    },
    {
     "data": {
      "text/plain": [
       "True"
      ]
     },
     "execution_count": null,
     "metadata": {},
     "output_type": "execute_result"
    }
   ],
   "source": [
    "nltk.download('punkt')\n",
    "nltk.download('stopwords')\n",
    "nltk.download('wordnet')"
   ]
  },
  {
   "cell_type": "code",
   "execution_count": null,
   "metadata": {
    "colab": {
     "background_save": true
    },
    "id": "b13CIZNDxWzX",
    "outputId": "9e0f29c4-121e-4372-8ce8-a3824aa1219a"
   },
   "outputs": [
    {
     "data": {
      "text/html": [
       "<div>\n",
       "<style scoped>\n",
       "    .dataframe tbody tr th:only-of-type {\n",
       "        vertical-align: middle;\n",
       "    }\n",
       "\n",
       "    .dataframe tbody tr th {\n",
       "        vertical-align: top;\n",
       "    }\n",
       "\n",
       "    .dataframe thead th {\n",
       "        text-align: right;\n",
       "    }\n",
       "</style>\n",
       "<table border=\"1\" class=\"dataframe\">\n",
       "  <thead>\n",
       "    <tr style=\"text-align: right;\">\n",
       "      <th></th>\n",
       "      <th>reviewText</th>\n",
       "      <th>remove_lower_punct</th>\n",
       "      <th>sentiment</th>\n",
       "      <th>sentiment score</th>\n",
       "      <th>tokenise</th>\n",
       "      <th>remove_stopwords</th>\n",
       "    </tr>\n",
       "  </thead>\n",
       "  <tbody>\n",
       "    <tr>\n",
       "      <th>0</th>\n",
       "      <td>They look good and stick good! I just don't li...</td>\n",
       "      <td>they look good and stick good i just dont like...</td>\n",
       "      <td>Positive</td>\n",
       "      <td>0.4922</td>\n",
       "      <td>[they, look, good, and, stick, good, i, just, ...</td>\n",
       "      <td>[look, good, stick, good, dont, like, rounded,...</td>\n",
       "    </tr>\n",
       "    <tr>\n",
       "      <th>1</th>\n",
       "      <td>These stickers work like the review says they ...</td>\n",
       "      <td>these stickers work like the review says they ...</td>\n",
       "      <td>Positive</td>\n",
       "      <td>0.9136</td>\n",
       "      <td>[these, stickers, work, like, the, review, say...</td>\n",
       "      <td>[stickers, work, like, review, says, stick, gr...</td>\n",
       "    </tr>\n",
       "    <tr>\n",
       "      <th>2</th>\n",
       "      <td>These are awesome and make my phone look so st...</td>\n",
       "      <td>these are awesome and make my phone look so st...</td>\n",
       "      <td>Positive</td>\n",
       "      <td>0.8481</td>\n",
       "      <td>[these, are, awesome, and, make, my, phone, lo...</td>\n",
       "      <td>[awesome, make, phone, look, stylish, used, on...</td>\n",
       "    </tr>\n",
       "    <tr>\n",
       "      <th>3</th>\n",
       "      <td>Item arrived in great time and was in perfect ...</td>\n",
       "      <td>item arrived in great time and was in perfect ...</td>\n",
       "      <td>Positive</td>\n",
       "      <td>0.9584</td>\n",
       "      <td>[item, arrived, in, great, time, and, was, in,...</td>\n",
       "      <td>[item, arrived, great, time, perfect, conditio...</td>\n",
       "    </tr>\n",
       "    <tr>\n",
       "      <th>4</th>\n",
       "      <td>awesome! stays on, and looks great. can be use...</td>\n",
       "      <td>awesome stays on and looks great can be used o...</td>\n",
       "      <td>Positive</td>\n",
       "      <td>0.8957</td>\n",
       "      <td>[awesome, stays, on, and, looks, great, can, b...</td>\n",
       "      <td>[awesome, stays, looks, great, used, multiple,...</td>\n",
       "    </tr>\n",
       "    <tr>\n",
       "      <th>5</th>\n",
       "      <td>These make using the home button easy. My daug...</td>\n",
       "      <td>these make using the home button easy my daugh...</td>\n",
       "      <td>Positive</td>\n",
       "      <td>0.8126</td>\n",
       "      <td>[these, make, using, the, home, button, easy, ...</td>\n",
       "      <td>[make, using, home, button, easy, daughter, li...</td>\n",
       "    </tr>\n",
       "    <tr>\n",
       "      <th>6</th>\n",
       "      <td>Came just as described.. It doesn't come unstu...</td>\n",
       "      <td>came just as described it doesnt come unstuck ...</td>\n",
       "      <td>Positive</td>\n",
       "      <td>0.7964</td>\n",
       "      <td>[came, just, as, described, it, doesnt, come, ...</td>\n",
       "      <td>[came, described, doesnt, come, unstuck, cute,...</td>\n",
       "    </tr>\n",
       "    <tr>\n",
       "      <th>7</th>\n",
       "      <td>it worked for the first week then it only char...</td>\n",
       "      <td>it worked for the first week then it only char...</td>\n",
       "      <td>Negative</td>\n",
       "      <td>-0.4215</td>\n",
       "      <td>[it, worked, for, the, first, week, then, it, ...</td>\n",
       "      <td>[worked, first, week, charge, phone, waste, mo...</td>\n",
       "    </tr>\n",
       "    <tr>\n",
       "      <th>8</th>\n",
       "      <td>Good case, solid build. Protects phone all aro...</td>\n",
       "      <td>good case solid build protects phone all aroun...</td>\n",
       "      <td>Positive</td>\n",
       "      <td>0.8555</td>\n",
       "      <td>[good, case, solid, build, protects, phone, al...</td>\n",
       "      <td>[good, case, solid, build, protects, phone, ar...</td>\n",
       "    </tr>\n",
       "    <tr>\n",
       "      <th>9</th>\n",
       "      <td>This is a fantastic case. Very stylish and pro...</td>\n",
       "      <td>this is a fantastic case very stylish and prot...</td>\n",
       "      <td>Positive</td>\n",
       "      <td>0.9572</td>\n",
       "      <td>[this, is, a, fantastic, case, very, stylish, ...</td>\n",
       "      <td>[fantastic, case, stylish, protects, phone, ea...</td>\n",
       "    </tr>\n",
       "  </tbody>\n",
       "</table>\n",
       "</div>"
      ],
      "text/plain": [
       "                                          reviewText  ...                                   remove_stopwords\n",
       "0  They look good and stick good! I just don't li...  ...  [look, good, stick, good, dont, like, rounded,...\n",
       "1  These stickers work like the review says they ...  ...  [stickers, work, like, review, says, stick, gr...\n",
       "2  These are awesome and make my phone look so st...  ...  [awesome, make, phone, look, stylish, used, on...\n",
       "3  Item arrived in great time and was in perfect ...  ...  [item, arrived, great, time, perfect, conditio...\n",
       "4  awesome! stays on, and looks great. can be use...  ...  [awesome, stays, looks, great, used, multiple,...\n",
       "5  These make using the home button easy. My daug...  ...  [make, using, home, button, easy, daughter, li...\n",
       "6  Came just as described.. It doesn't come unstu...  ...  [came, described, doesnt, come, unstuck, cute,...\n",
       "7  it worked for the first week then it only char...  ...  [worked, first, week, charge, phone, waste, mo...\n",
       "8  Good case, solid build. Protects phone all aro...  ...  [good, case, solid, build, protects, phone, ar...\n",
       "9  This is a fantastic case. Very stylish and pro...  ...  [fantastic, case, stylish, protects, phone, ea...\n",
       "\n",
       "[10 rows x 6 columns]"
      ]
     },
     "metadata": {},
     "output_type": "display_data"
    }
   ],
   "source": [
    "# initiate stopwords from nltk\n",
    "\n",
    "stop_words = stopwords.words('english')\n",
    "\n",
    "# add additional missing terms\n",
    "\n",
    "#stop_words.extend(stop_words_list) \n",
    "\n",
    "# remove stopwords\n",
    "\n",
    "df['remove_stopwords'] = df['tokenise'].apply(lambda x: [item for item in x if item not in stop_words])\n",
    "\n",
    "display(df.head(10))"
   ]
  },
  {
   "cell_type": "code",
   "execution_count": null,
   "metadata": {
    "colab": {
     "background_save": true
    },
    "id": "ljxN2ZjXxWza",
    "outputId": "c9666a7c-468d-477c-9a3d-c08c2b12a609"
   },
   "outputs": [
    {
     "data": {
      "text/html": [
       "<div>\n",
       "<style scoped>\n",
       "    .dataframe tbody tr th:only-of-type {\n",
       "        vertical-align: middle;\n",
       "    }\n",
       "\n",
       "    .dataframe tbody tr th {\n",
       "        vertical-align: top;\n",
       "    }\n",
       "\n",
       "    .dataframe thead th {\n",
       "        text-align: right;\n",
       "    }\n",
       "</style>\n",
       "<table border=\"1\" class=\"dataframe\">\n",
       "  <thead>\n",
       "    <tr style=\"text-align: right;\">\n",
       "      <th></th>\n",
       "      <th>reviewText</th>\n",
       "      <th>remove_lower_punct</th>\n",
       "      <th>sentiment</th>\n",
       "      <th>sentiment score</th>\n",
       "      <th>tokenise</th>\n",
       "      <th>remove_stopwords</th>\n",
       "      <th>lemmatise</th>\n",
       "    </tr>\n",
       "  </thead>\n",
       "  <tbody>\n",
       "    <tr>\n",
       "      <th>0</th>\n",
       "      <td>They look good and stick good! I just don't li...</td>\n",
       "      <td>they look good and stick good i just dont like...</td>\n",
       "      <td>Positive</td>\n",
       "      <td>0.4922</td>\n",
       "      <td>[they, look, good, and, stick, good, i, just, ...</td>\n",
       "      <td>[look, good, stick, good, dont, like, rounded,...</td>\n",
       "      <td>[look, good, stick, good, dont, like, rounded,...</td>\n",
       "    </tr>\n",
       "    <tr>\n",
       "      <th>1</th>\n",
       "      <td>These stickers work like the review says they ...</td>\n",
       "      <td>these stickers work like the review says they ...</td>\n",
       "      <td>Positive</td>\n",
       "      <td>0.9136</td>\n",
       "      <td>[these, stickers, work, like, the, review, say...</td>\n",
       "      <td>[stickers, work, like, review, says, stick, gr...</td>\n",
       "      <td>[sticker, work, like, review, say, stick, grea...</td>\n",
       "    </tr>\n",
       "    <tr>\n",
       "      <th>2</th>\n",
       "      <td>These are awesome and make my phone look so st...</td>\n",
       "      <td>these are awesome and make my phone look so st...</td>\n",
       "      <td>Positive</td>\n",
       "      <td>0.8481</td>\n",
       "      <td>[these, are, awesome, and, make, my, phone, lo...</td>\n",
       "      <td>[awesome, make, phone, look, stylish, used, on...</td>\n",
       "      <td>[awesome, make, phone, look, stylish, used, on...</td>\n",
       "    </tr>\n",
       "    <tr>\n",
       "      <th>3</th>\n",
       "      <td>Item arrived in great time and was in perfect ...</td>\n",
       "      <td>item arrived in great time and was in perfect ...</td>\n",
       "      <td>Positive</td>\n",
       "      <td>0.9584</td>\n",
       "      <td>[item, arrived, in, great, time, and, was, in,...</td>\n",
       "      <td>[item, arrived, great, time, perfect, conditio...</td>\n",
       "      <td>[item, arrived, great, time, perfect, conditio...</td>\n",
       "    </tr>\n",
       "    <tr>\n",
       "      <th>4</th>\n",
       "      <td>awesome! stays on, and looks great. can be use...</td>\n",
       "      <td>awesome stays on and looks great can be used o...</td>\n",
       "      <td>Positive</td>\n",
       "      <td>0.8957</td>\n",
       "      <td>[awesome, stays, on, and, looks, great, can, b...</td>\n",
       "      <td>[awesome, stays, looks, great, used, multiple,...</td>\n",
       "      <td>[awesome, stay, look, great, used, multiple, a...</td>\n",
       "    </tr>\n",
       "    <tr>\n",
       "      <th>5</th>\n",
       "      <td>These make using the home button easy. My daug...</td>\n",
       "      <td>these make using the home button easy my daugh...</td>\n",
       "      <td>Positive</td>\n",
       "      <td>0.8126</td>\n",
       "      <td>[these, make, using, the, home, button, easy, ...</td>\n",
       "      <td>[make, using, home, button, easy, daughter, li...</td>\n",
       "      <td>[make, using, home, button, easy, daughter, li...</td>\n",
       "    </tr>\n",
       "    <tr>\n",
       "      <th>6</th>\n",
       "      <td>Came just as described.. It doesn't come unstu...</td>\n",
       "      <td>came just as described it doesnt come unstuck ...</td>\n",
       "      <td>Positive</td>\n",
       "      <td>0.7964</td>\n",
       "      <td>[came, just, as, described, it, doesnt, come, ...</td>\n",
       "      <td>[came, described, doesnt, come, unstuck, cute,...</td>\n",
       "      <td>[came, described, doesnt, come, unstuck, cute,...</td>\n",
       "    </tr>\n",
       "    <tr>\n",
       "      <th>7</th>\n",
       "      <td>it worked for the first week then it only char...</td>\n",
       "      <td>it worked for the first week then it only char...</td>\n",
       "      <td>Negative</td>\n",
       "      <td>-0.4215</td>\n",
       "      <td>[it, worked, for, the, first, week, then, it, ...</td>\n",
       "      <td>[worked, first, week, charge, phone, waste, mo...</td>\n",
       "      <td>[worked, first, week, charge, phone, waste, mo...</td>\n",
       "    </tr>\n",
       "    <tr>\n",
       "      <th>8</th>\n",
       "      <td>Good case, solid build. Protects phone all aro...</td>\n",
       "      <td>good case solid build protects phone all aroun...</td>\n",
       "      <td>Positive</td>\n",
       "      <td>0.8555</td>\n",
       "      <td>[good, case, solid, build, protects, phone, al...</td>\n",
       "      <td>[good, case, solid, build, protects, phone, ar...</td>\n",
       "      <td>[good, case, solid, build, protects, phone, ar...</td>\n",
       "    </tr>\n",
       "    <tr>\n",
       "      <th>9</th>\n",
       "      <td>This is a fantastic case. Very stylish and pro...</td>\n",
       "      <td>this is a fantastic case very stylish and prot...</td>\n",
       "      <td>Positive</td>\n",
       "      <td>0.9572</td>\n",
       "      <td>[this, is, a, fantastic, case, very, stylish, ...</td>\n",
       "      <td>[fantastic, case, stylish, protects, phone, ea...</td>\n",
       "      <td>[fantastic, case, stylish, protects, phone, ea...</td>\n",
       "    </tr>\n",
       "  </tbody>\n",
       "</table>\n",
       "</div>"
      ],
      "text/plain": [
       "                                          reviewText  ...                                          lemmatise\n",
       "0  They look good and stick good! I just don't li...  ...  [look, good, stick, good, dont, like, rounded,...\n",
       "1  These stickers work like the review says they ...  ...  [sticker, work, like, review, say, stick, grea...\n",
       "2  These are awesome and make my phone look so st...  ...  [awesome, make, phone, look, stylish, used, on...\n",
       "3  Item arrived in great time and was in perfect ...  ...  [item, arrived, great, time, perfect, conditio...\n",
       "4  awesome! stays on, and looks great. can be use...  ...  [awesome, stay, look, great, used, multiple, a...\n",
       "5  These make using the home button easy. My daug...  ...  [make, using, home, button, easy, daughter, li...\n",
       "6  Came just as described.. It doesn't come unstu...  ...  [came, described, doesnt, come, unstuck, cute,...\n",
       "7  it worked for the first week then it only char...  ...  [worked, first, week, charge, phone, waste, mo...\n",
       "8  Good case, solid build. Protects phone all aro...  ...  [good, case, solid, build, protects, phone, ar...\n",
       "9  This is a fantastic case. Very stylish and pro...  ...  [fantastic, case, stylish, protects, phone, ea...\n",
       "\n",
       "[10 rows x 7 columns]"
      ]
     },
     "metadata": {},
     "output_type": "display_data"
    }
   ],
   "source": [
    "# initiate nltk lemmatiser\n",
    "\n",
    "wordnet_lemmatizer = WordNetLemmatizer()\n",
    "\n",
    "# lemmatise words\n",
    "\n",
    "df['lemmatise'] = df['remove_stopwords'].apply(lambda x: [wordnet_lemmatizer.lemmatize(y) for y in x]) \n",
    "\n",
    "display(df.head(10))"
   ]
  },
  {
   "cell_type": "code",
   "execution_count": null,
   "metadata": {
    "colab": {
     "background_save": true
    },
    "id": "qPRP58sCxWzb",
    "outputId": "4fc95e88-46e2-46f0-dc0c-d430059cc9b9"
   },
   "outputs": [
    {
     "name": "stdout",
     "output_type": "stream",
     "text": [
      "  (0, 1086472)\t1\n",
      "  (0, 792816)\t1\n",
      "  (0, 1823634)\t1\n",
      "  (0, 790481)\t1\n",
      "  (0, 532393)\t1\n",
      "  (0, 1057936)\t1\n",
      "  (0, 1612601)\t1\n",
      "  (0, 1690586)\t1\n",
      "  (0, 60709)\t1\n",
      "  (0, 242638)\t1\n",
      "  (0, 1727136)\t1\n",
      "  (0, 995490)\t1\n",
      "  (0, 1418365)\t1\n",
      "  (0, 968370)\t1\n",
      "  (0, 2143315)\t1\n",
      "  (0, 250048)\t1\n",
      "  (0, 1464261)\t1\n",
      "  (1, 1825024)\t1\n",
      "  (1, 2147702)\t1\n",
      "  (1, 1057851)\t1\n",
      "  (1, 1594582)\t1\n",
      "  (1, 1639612)\t1\n",
      "  (1, 1823640)\t1\n",
      "  (1, 807398)\t1\n",
      "  (1, 1819459)\t1\n",
      "  :\t:\n",
      "  (194438, 2159330)\t1\n",
      "  (194438, 1057019)\t1\n",
      "  (194438, 314130)\t1\n",
      "  (194438, 1404817)\t1\n",
      "  (194438, 1463149)\t1\n",
      "  (194438, 1097433)\t1\n",
      "  (194438, 1606087)\t1\n",
      "  (194438, 2146462)\t1\n",
      "  (194438, 973515)\t1\n",
      "  (194438, 1033663)\t1\n",
      "  (194438, 414712)\t1\n",
      "  (194438, 1373918)\t1\n",
      "  (194438, 1727718)\t1\n",
      "  (194438, 517036)\t1\n",
      "  (194438, 1369228)\t1\n",
      "  (194438, 413684)\t1\n",
      "  (194438, 250641)\t1\n",
      "  (194438, 784606)\t1\n",
      "  (194438, 2094992)\t1\n",
      "  (194438, 774571)\t1\n",
      "  (194438, 1988000)\t1\n",
      "  (194438, 1185916)\t1\n",
      "  (194438, 413450)\t1\n",
      "  (194438, 482485)\t1\n",
      "  (194438, 2057114)\t1\n"
     ]
    }
   ],
   "source": [
    "# initialise the count vectorizer\n",
    "\n",
    "vectorizer = CountVectorizer(analyzer = 'word', ngram_range = (2, 2))\n",
    "                            \n",
    "# join the processed data to be vectorised\n",
    "\n",
    "vectors = []\n",
    "\n",
    "for index, row in df.iterrows():\n",
    "    vectors.append(\", \".join(row[6]))\n",
    "\n",
    "vectorised = vectorizer.fit_transform(vectors)\n",
    "\n",
    "print(vectorised)"
   ]
  },
  {
   "cell_type": "code",
   "execution_count": null,
   "metadata": {
    "id": "8a5ypwyzxWzd"
   },
   "outputs": [],
   "source": [
    "# initisalise LDA Model\n",
    "\n",
    "lda_model = LatentDirichletAllocation(n_components = 6, # number of topics\n",
    "                                  random_state = 10,          # random state\n",
    "                                  evaluate_every = -1,      # compute perplexity every n iters, default: Don't\n",
    "                                  n_jobs = 1,              # Use all available CPUs\n",
    "                                 )\n",
    "\n",
    "lda_output = lda_model.fit_transform(vectorised)\n",
    "\n",
    "# column names\n",
    "\n",
    "topic_names = [\"Topic\" + str(i) for i in range(1, lda_model.n_components + 1)]\n",
    "\n",
    "# make the pandas dataframe\n",
    "\n",
    "df_document_topic = pd.DataFrame(np.round(lda_output, 2), columns = topic_names)\n",
    "\n",
    "# get dominant topic for each document\n",
    "\n",
    "dominant_topic = (np.argmax(df_document_topic.values, axis=1)+1)\n",
    "df_document_topic['Dominant_topic'] = dominant_topic\n",
    "\n",
    "# join to original dataframes\n",
    "\n",
    "df = pd.merge(df, df_document_topic, left_index = True, right_index = True, how = 'outer')\n",
    "display(df.head(10))"
   ]
  },
  {
   "cell_type": "code",
   "execution_count": null,
   "metadata": {
    "id": "Q51CThz0xWzf"
   },
   "outputs": [],
   "source": [
    "# index names\n",
    "docnames = ['Doc' + str(i) for i in range(len(df['reviewText']))]\n",
    "\n",
    "# Make the pandas dataframe\n",
    "df_document_topic = pd.DataFrame(np.round(lda_output, 2), columns=topic_names, index=docnames)\n",
    "\n",
    "# Get dominant topic for each document\n",
    "dominant_topic = np.argmax(df_document_topic.values, axis=1)\n",
    "df_document_topic['dominant_topic'] = dominant_topic\n",
    "\n",
    "# Topic-Keyword Matrix\n",
    "df_topic_keywords = pd.DataFrame(lda_model.components_)\n",
    "\n",
    "# Assign Column and Index\n",
    "df_topic_keywords.columns = vectorizer.get_feature_names()\n",
    "\n",
    "#print(topic_names)\n",
    "topics = []\n",
    "\n",
    "for topic_name in topic_names:\n",
    "  #topic = 'Topic'\n",
    "  topic_name = int(topic_name.replace('Topic',''))\n",
    "  topics.append(topic_name)\n",
    "#print(topics)\n",
    "\n",
    "df_topic_keywords.index = topics\n",
    "\n",
    "df_topic_no = pd.DataFrame(df_topic_keywords.idxmax())\n",
    "df_scores = pd.DataFrame(df_topic_keywords.max())\n",
    "\n",
    "tmp = pd.merge(df_topic_no, df_scores, left_index=True, right_index=True)\n",
    "tmp.columns = ['topic', 'relevance_score']\n",
    "\n",
    "display(tmp)"
   ]
  },
  {
   "cell_type": "code",
   "execution_count": null,
   "metadata": {
    "id": "F2jBRoFnxWzg"
   },
   "outputs": [],
   "source": [
    "all_topics = []\n",
    "\n",
    "for i in tmp['topic'].unique():    \n",
    "    tmp_1 = tmp.loc[tmp['topic'] == i].reset_index()\n",
    "    tmp_1 = tmp_1.sort_values('relevance_score', ascending=False).head(1)\n",
    "\n",
    "    #tmp_1['topic'] = tmp_1['topic'] + 1\n",
    "    \n",
    "    tmp_2 = []\n",
    "    tmp_2.append(tmp_1['topic'].unique()[0])\n",
    "    tmp_2.append(list(tmp_1['index'].unique()))\n",
    "    all_topics.append(tmp_2)\n",
    "\n",
    "all_topics = pd.DataFrame(all_topics, columns=['Dominant_topic', 'topic_name'])\n",
    "display(all_topics)"
   ]
  },
  {
   "cell_type": "code",
   "execution_count": null,
   "metadata": {
    "id": "E4jGusP-xWzi"
   },
   "outputs": [],
   "source": [
    "results = df.groupby(['Dominant_topic', 'sentiment']).count().reset_index()\n",
    "\n",
    "#results['Dominant_topic'] = results['Dominant_topic'].astype(int)\n",
    "#all_topics['Dominant_topic'] = all_topics['Dominant_topic'].astype(int)\n",
    "\n",
    "results = results.merge(all_topics, on='Dominant_topic')\n",
    "results['topic_name'] = results['topic_name'].apply(', '.join)\n",
    "\n",
    "graph_results = results[['topic_name', 'sentiment', 'sentiment score']]\n",
    "graph_results = graph_results.pivot(index='topic_name', columns='sentiment', values='sentiment score').reset_index()\n",
    "\n",
    "graph_results.set_index('topic_name', inplace=True)\n",
    "\n",
    "display(graph_results)"
   ]
  },
  {
   "cell_type": "code",
   "execution_count": null,
   "metadata": {
    "id": "s8Sb3ka4xWzi"
   },
   "outputs": [],
   "source": [
    "fig = graph_results.plot.bar(rot=90, figsize=(10,10))\n",
    "fig.figure.savefig('sentiment_analysis.png', bbox_inches='tight')"
   ]
  },
  {
   "cell_type": "code",
   "execution_count": null,
   "metadata": {
    "id": "K6stLXneBtdP"
   },
   "outputs": [],
   "source": [
    "nltk.download('averaged_perceptron_tagger')\n",
    "nltk.download('sentiwordnet')"
   ]
  },
  {
   "cell_type": "code",
   "execution_count": null,
   "metadata": {
    "id": "gF2mGx85xWzk"
   },
   "outputs": [],
   "source": [
    "from nltk.corpus import wordnet\n",
    "\n",
    "def get_wordnet_pos(treebank_tag):\n",
    "\n",
    "    if treebank_tag.startswith('J'):\n",
    "        return wordnet.ADJ\n",
    "    elif treebank_tag.startswith('V'):\n",
    "        return wordnet.VERB\n",
    "    elif treebank_tag.startswith('N'):\n",
    "        return wordnet.NOUN\n",
    "    elif treebank_tag.startswith('R'):\n",
    "        return wordnet.ADV\n",
    "    else:\n",
    "        pass\n",
    "\n",
    "positive_words = []\n",
    "negative_words = []\n",
    "\n",
    "for i in df['Dominant_topic'].unique():\n",
    "    \n",
    "    if i == 1:\n",
    "        tmp_1 = df.loc[df['Dominant_topic'] == i]\n",
    "                \n",
    "        for j in tmp_1['tokenise'].values.tolist():\n",
    "            for p in nltk.pos_tag(j):\n",
    "                get_pos_tag = get_wordnet_pos(p[1])\n",
    "                if type(get_pos_tag) == str:\n",
    "                    try:        \n",
    "                        synset = swn.senti_synset(p[0] + '.' + get_pos_tag +'.01')\n",
    "\n",
    "                        if synset.obj_score() <= 0.49:\n",
    "                            if synset.pos_score() > synset.neg_score() and p[0] in wn_affect:\n",
    "                                    positive_words.append(p[0])\n",
    "                            elif synset.neg_score() > synset.pos_score() and p[0] in wn_affect:\n",
    "                                    negative_words.append(p[0])      \n",
    "                    except:\n",
    "                        pass"
   ]
  },
  {
   "cell_type": "code",
   "execution_count": null,
   "metadata": {
    "id": "KlN1O1EBxWzl"
   },
   "outputs": [],
   "source": [
    "unique_positive_words = list(set(positive_words))\n",
    "unique_negative_words = list(set(negative_words))\n",
    "\n",
    "count_positive_words = []\n",
    "count_negative_words = []\n",
    "\n",
    "for i in unique_positive_words:\n",
    "    counter = [i, positive_words.count(i)]\n",
    "    count_positive_words.append(counter)\n",
    "\n",
    "for i in unique_negative_words:\n",
    "    counter = [i, negative_words.count(i)]\n",
    "    count_negative_words.append(counter)    \n",
    "    \n",
    "positive_words = pd.DataFrame(count_positive_words, columns = ['word', 'score'])\n",
    "negative_words = pd.DataFrame(count_negative_words, columns = ['word', 'score'])\n",
    "\n",
    "positive_words.sort_values('score', ascending=False, inplace = True)\n",
    "negative_words.sort_values('score', ascending=False, inplace = True)\n"
   ]
  },
  {
   "cell_type": "code",
   "execution_count": null,
   "metadata": {
    "id": "WRGpIElMsNRQ"
   },
   "outputs": [],
   "source": [
    "positive_words.head()"
   ]
  },
  {
   "cell_type": "code",
   "execution_count": null,
   "metadata": {
    "id": "iOFTcNLKxWzm"
   },
   "outputs": [],
   "source": [
    "word_dict = {}\n",
    "for k, v in positive_words.values:\n",
    "    word_dict[k] = v\n",
    "\n",
    "wordcloud = WordCloud()\n",
    "wordcloud.generate_from_frequencies(frequencies=word_dict)\n",
    "plt.figure(figsize=(20,10))\n",
    "plt.imshow(wordcloud, interpolation=\"bilinear\")\n",
    "plt.axis(\"off\")\n",
    "plt.savefig('positive_words.png')\n",
    "plt.show()"
   ]
  },
  {
   "cell_type": "code",
   "execution_count": null,
   "metadata": {
    "id": "6vX2Uk1exWzp"
   },
   "outputs": [],
   "source": [
    "word_dict = {}\n",
    "for k, v in negative_words.values:\n",
    "    word_dict[k] = v\n",
    "    \n",
    "wordcloud.generate_from_frequencies(frequencies=word_dict)\n",
    "plt.figure(figsize=(20,10))\n",
    "plt.imshow(wordcloud, interpolation=\"bilinear\")\n",
    "plt.axis(\"off\")\n",
    "plt.savefig('negative_words.png')\n",
    "plt.show()"
   ]
  },
  {
   "cell_type": "markdown",
   "metadata": {
    "id": "YTiT1WM_Oz9R"
   },
   "source": [
    "Saving the model\n"
   ]
  },
  {
   "cell_type": "code",
   "execution_count": null,
   "metadata": {
    "id": "QFKl8ebwmVPZ"
   },
   "outputs": [],
   "source": [
    "import pickle\n",
    "\n",
    "pickle.dump(lda_model, open('lda_model.pk','wb'))\n",
    "# then reload it with\n",
    "lda_model = pickle.load(open('lda_model.pk','rb'))"
   ]
  },
  {
   "cell_type": "markdown",
   "metadata": {
    "id": "G60jWZ5d4kKU"
   },
   "source": [
    "\n",
    "\n",
    "# Predicting with Jumia\n"
   ]
  },
  {
   "cell_type": "code",
   "execution_count": null,
   "metadata": {
    "id": "Q4g8i85a4h7v"
   },
   "outputs": [],
   "source": [
    "import requests\n",
    "from bs4 import BeautifulSoup\n",
    "import pandas as pd\n",
    "import math"
   ]
  },
  {
   "cell_type": "code",
   "execution_count": null,
   "metadata": {
    "id": "uZ9qqwKF4iDc"
   },
   "outputs": [],
   "source": [
    "\n",
    "jumia_product_url = input('Please enter the cellphone product URL')\n",
    "\n",
    "response = requests.get(jumia_product_url)\n",
    "# Check successful response\n",
    "if response.status_code != 200:\n",
    "    raise Exception('Failed to load page {}'.format(jumia_product_url))\n",
    "# Parse using BeautifulSoup\n",
    "product_doc = BeautifulSoup(response.text, 'html.parser')"
   ]
  },
  {
   "cell_type": "code",
   "execution_count": null,
   "metadata": {
    "id": "7iEcbLX_4iIc"
   },
   "outputs": [],
   "source": [
    "review_page = product_doc.find('a',{'class':'-plxs'})\n",
    "base_url = 'https://www.jumia.co.ke'\n",
    "review_url = base_url + review_page.get('href','')\n",
    "\n",
    "response = requests.get(review_url)\n",
    "# Check successful response\n",
    "if response.status_code != 200:\n",
    "    raise Exception('Failed to load page {}'.format(review_url))\n",
    "# Parse using BeautifulSoup\n",
    "review_doc = BeautifulSoup(response.text, 'html.parser')"
   ]
  },
  {
   "cell_type": "code",
   "execution_count": null,
   "metadata": {
    "id": "T53bk5Yo4iMf"
   },
   "outputs": [],
   "source": [
    "# Find the count of reviews of the given product\n",
    "\n",
    "total_counts = review_doc.find_all('h2',{'class':'-fs14'})\n",
    "review_count = total_counts[1].text\n",
    "lst = review_count.split()\n",
    "refined = lst[2].replace(\"(\",\"\")\n",
    "f_count = refined.replace(\")\",\"\")\n",
    "final_count = int(f_count)\n",
    "total_review_pages = math.ceil(final_count / 10)\n"
   ]
  },
  {
   "cell_type": "code",
   "execution_count": null,
   "metadata": {
    "id": "aJLBYoCP4iqW"
   },
   "outputs": [],
   "source": [
    "# Find URL of each of the pages\n",
    "current_page = 1\n",
    "review_url =  []\n",
    "while current_page <= total_review_pages :\n",
    "  review_url.append(base_url + review_page.get('href','') + '?page=' + str(current_page))\n",
    "  current_page += 1"
   ]
  },
  {
   "cell_type": "code",
   "execution_count": null,
   "metadata": {
    "id": "KXkJopjk4ivA"
   },
   "outputs": [],
   "source": [
    "\n",
    "descs = []\n",
    "for url in review_url:\n",
    "  response = requests.get(url)\n",
    "  review_doc = BeautifulSoup(response.text, 'html.parser')\n",
    "  desc_tags = review_doc.find_all('p',{'class':'-pvs'})\n",
    "  for tag in desc_tags:\n",
    "    descs.append(tag.text)\n",
    "\n",
    "print('Extracted number of reviews is ' + str(len(descs)))\n",
    "jumia_df = pd.DataFrame(descs,columns =['reviewText'])\n",
    "jumia_df"
   ]
  },
  {
   "cell_type": "code",
   "execution_count": null,
   "metadata": {
    "id": "k3bnhmMC5Xkd"
   },
   "outputs": [],
   "source": [
    "lda_model.predict(jumia_df)"
   ]
  }
 ],
 "metadata": {
  "colab": {
   "collapsed_sections": [],
   "name": "aspect_sentiment_analysis.ipynb",
   "provenance": []
  },
  "kernelspec": {
   "display_name": "Python 3 (ipykernel)",
   "language": "python",
   "name": "python3"
  },
  "language_info": {
   "codemirror_mode": {
    "name": "ipython",
    "version": 3
   },
   "file_extension": ".py",
   "mimetype": "text/x-python",
   "name": "python",
   "nbconvert_exporter": "python",
   "pygments_lexer": "ipython3",
   "version": "3.9.8"
  }
 },
 "nbformat": 4,
 "nbformat_minor": 1
}
